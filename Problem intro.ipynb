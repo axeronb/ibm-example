{
 "cells": [
  {
   "cell_type": "markdown",
   "metadata": {},
   "source": [
    "# The Battle of Neighborhoods WEEK 1 Business Problem"
   ]
  },
  {
   "cell_type": "markdown",
   "metadata": {},
   "source": [
    "## Introduction:\n",
    "\n",
    "The main purpose of this project is to identify the best suitable neighborhood. This project will make the businesses to easily decide thebest neighborhood.Many people are migrating to Canada and needs lots to search for good housing prices and schools for their children. This project is for those people who are looking for better neighborhoods with low cost. For ease of accessing to Cafe, School, Super market, medical shops, grocery shops, marts etc.The main objective of the project is to define a cluster where the facilities are readily available.\n",
    "\n",
    "\n",
    "## Problem Definition & solution\n",
    "\n",
    "The major purpose of this project, is to suggest a better neighborhood in a new city for the person who will be moving in the are. The K means clustering method shall be used for the  Connectivity to the airport, bus stand, city center, markets and other daily needs things nearby.\n",
    "\n",
    "1. Sorted list of house in terms of housing prices in a ascending or descending order\n",
    "2. Sorted list of schools in terms of location, fees, rating and reviews\n",
    "\n",
    "\n",
    "## The Location:\n",
    "First settled by Europeans in the 1790s since then Scarborough has grown from a collection of small rural villages and farms to become fully urbanized with a diverse cultural community. Incorporated in 1850 as a township, Scarborough became part of Metropolitan Toronto in 1953 and was reconstituted as a borough in 1967. Scarborough rapidly developed as a suburb of Old Toronto over the next decade and became a city in 1983. In 1998, Scarborough and the rest of Metropolitan Toronto were amalgamated into the present city of Toronto. Scarborough still exists in name and as a borough of Toronto. The Scarborough Civic Centre, the former city‘s last place of government, is occupied by City of Toronto government offices.\n",
    "Scarborough is a popular destination for new immigrants in Canada to reside. As a result, it is one of the most diverse and multicultural areas in the Greater Toronto Area, being home to various religious groups and places of worship. Although immigration has become a hot topic over the past few years with more governments seeking more restrictions on immigrants and refugees, the general trend of immigration into Canada has been one of on the rise.\n",
    "\n",
    "\n",
    "## Foursquare API:\n",
    "For this project Four-square API is used its prime data gathering source as it has a database of millions of places, especially their places API which provides the ability to perform location search, location sharing and details about a business.Foursquare free tier developer account is used and the data shall be access using the API provided by the foursquare\n"
   ]
  }
 ],
 "metadata": {
  "kernelspec": {
   "display_name": "Python",
   "language": "python",
   "name": "conda-env-python-py"
  },
  "language_info": {
   "codemirror_mode": {
    "name": "ipython",
    "version": 3
   },
   "file_extension": ".py",
   "mimetype": "text/x-python",
   "name": "python",
   "nbconvert_exporter": "python",
   "pygments_lexer": "ipython3",
   "version": "3.6.10"
  }
 },
 "nbformat": 4,
 "nbformat_minor": 4
}
